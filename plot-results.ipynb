{
 "cells": [
  {
   "cell_type": "code",
   "execution_count": 8,
   "id": "e0a6547e",
   "metadata": {
    "execution": {
     "iopub.execute_input": "2025-01-07T22:41:32.891926Z",
     "iopub.status.busy": "2025-01-07T22:41:32.891319Z",
     "iopub.status.idle": "2025-01-07T22:41:47.477052Z",
     "shell.execute_reply": "2025-01-07T22:41:47.475826Z"
    },
    "papermill": {
     "duration": 14.593833,
     "end_time": "2025-01-07T22:41:47.480063",
     "exception": false,
     "start_time": "2025-01-07T22:41:32.886230",
     "status": "completed"
    },
    "tags": []
   },
   "outputs": [],
   "source": [
    "import pandas as pd\n",
    "from scipy.stats import f_oneway, ttest_rel"
   ]
  },
  {
   "cell_type": "code",
   "execution_count": 2,
   "id": "d2b18289",
   "metadata": {
    "execution": {
     "iopub.execute_input": "2025-01-07T22:41:47.487716Z",
     "iopub.status.busy": "2025-01-07T22:41:47.487056Z",
     "iopub.status.idle": "2025-01-07T22:41:47.494858Z",
     "shell.execute_reply": "2025-01-07T22:41:47.494246Z"
    },
    "papermill": {
     "duration": 0.012204,
     "end_time": "2025-01-07T22:41:47.496417",
     "exception": false,
     "start_time": "2025-01-07T22:41:47.484213",
     "status": "completed"
    },
    "tags": []
   },
   "outputs": [],
   "source": [
    "df = pd.read_csv(\n",
    "    \"timings.csv\",\n",
    "    header=None,\n",
    "    names=[\"run\", \"module\", \"approach\", \"request type\", \"duration (s)\"],\n",
    ")"
   ]
  },
  {
   "cell_type": "code",
   "execution_count": 7,
   "id": "bfb268a2",
   "metadata": {
    "execution": {
     "iopub.execute_input": "2025-01-07T22:41:47.501230Z",
     "iopub.status.busy": "2025-01-07T22:41:47.500826Z",
     "iopub.status.idle": "2025-01-07T22:41:47.513418Z",
     "shell.execute_reply": "2025-01-07T22:41:47.512988Z"
    },
    "papermill": {
     "duration": 0.016359,
     "end_time": "2025-01-07T22:41:47.514509",
     "exception": false,
     "start_time": "2025-01-07T22:41:47.498150",
     "status": "completed"
    },
    "tags": []
   },
   "outputs": [
    {
     "data": {
      "text/html": [
       "<div>\n",
       "<style scoped>\n",
       "    .dataframe tbody tr th:only-of-type {\n",
       "        vertical-align: middle;\n",
       "    }\n",
       "\n",
       "    .dataframe tbody tr th {\n",
       "        vertical-align: top;\n",
       "    }\n",
       "\n",
       "    .dataframe thead tr th {\n",
       "        text-align: left;\n",
       "    }\n",
       "\n",
       "    .dataframe thead tr:last-of-type th {\n",
       "        text-align: right;\n",
       "    }\n",
       "</style>\n",
       "<table border=\"1\" class=\"dataframe\">\n",
       "  <thead>\n",
       "    <tr>\n",
       "      <th></th>\n",
       "      <th colspan=\"3\" halign=\"left\">duration (s)</th>\n",
       "    </tr>\n",
       "    <tr>\n",
       "      <th></th>\n",
       "      <th>mean</th>\n",
       "      <th>std</th>\n",
       "      <th>count</th>\n",
       "    </tr>\n",
       "    <tr>\n",
       "      <th>approach</th>\n",
       "      <th></th>\n",
       "      <th></th>\n",
       "      <th></th>\n",
       "    </tr>\n",
       "  </thead>\n",
       "  <tbody>\n",
       "    <tr>\n",
       "      <th>dataclass</th>\n",
       "      <td>3.225101</td>\n",
       "      <td>0.038335</td>\n",
       "      <td>100</td>\n",
       "    </tr>\n",
       "    <tr>\n",
       "      <th>explicitrange</th>\n",
       "      <td>3.229481</td>\n",
       "      <td>0.034978</td>\n",
       "      <td>100</td>\n",
       "    </tr>\n",
       "    <tr>\n",
       "      <th>tuple</th>\n",
       "      <td>3.218173</td>\n",
       "      <td>0.041183</td>\n",
       "      <td>100</td>\n",
       "    </tr>\n",
       "    <tr>\n",
       "      <th>typeddict</th>\n",
       "      <td>3.218652</td>\n",
       "      <td>0.051624</td>\n",
       "      <td>100</td>\n",
       "    </tr>\n",
       "  </tbody>\n",
       "</table>\n",
       "</div>"
      ],
      "text/plain": [
       "              duration (s)                \n",
       "                      mean       std count\n",
       "approach                                  \n",
       "dataclass         3.225101  0.038335   100\n",
       "explicitrange     3.229481  0.034978   100\n",
       "tuple             3.218173  0.041183   100\n",
       "typeddict         3.218652  0.051624   100"
      ]
     },
     "execution_count": 7,
     "metadata": {},
     "output_type": "execute_result"
    }
   ],
   "source": [
    "df.groupby(\"approach\").agg({\"duration (s)\": [\"mean\", \"std\", \"count\"]})"
   ]
  },
  {
   "cell_type": "code",
   "execution_count": 4,
   "id": "81ac520f",
   "metadata": {
    "execution": {
     "iopub.execute_input": "2025-01-07T22:41:47.517736Z",
     "iopub.status.busy": "2025-01-07T22:41:47.517551Z",
     "iopub.status.idle": "2025-01-07T22:41:47.771024Z",
     "shell.execute_reply": "2025-01-07T22:41:47.770776Z"
    },
    "papermill": {
     "duration": 0.255905,
     "end_time": "2025-01-07T22:41:47.771900",
     "exception": false,
     "start_time": "2025-01-07T22:41:47.515995",
     "status": "completed"
    },
    "tags": []
   },
   "outputs": [
    {
     "data": {
      "text/plain": [
       "<Axes: title={'center': 'duration (s)'}, xlabel='approach'>"
      ]
     },
     "execution_count": 4,
     "metadata": {},
     "output_type": "execute_result"
    },
    {
     "data": {
      "image/png": "[encoded data removed]",
      "text/plain": [
       "<Figure size 640x480 with 1 Axes>"
      ]
     },
     "metadata": {},
     "output_type": "display_data"
    }
   ],
   "source": [
    "df.boxplot(column=\"duration (s)\", by=\"approach\")"
   ]
  },
  {
   "cell_type": "code",
   "execution_count": 11,
   "id": "49e19ff0",
   "metadata": {
    "execution": {
     "iopub.execute_input": "2025-01-07T22:41:47.774441Z",
     "iopub.status.busy": "2025-01-07T22:41:47.774284Z",
     "iopub.status.idle": "2025-01-07T22:41:47.777002Z",
     "shell.execute_reply": "2025-01-07T22:41:47.776782Z"
    },
    "papermill": {
     "duration": 0.004584,
     "end_time": "2025-01-07T22:41:47.777636",
     "exception": false,
     "start_time": "2025-01-07T22:41:47.773052",
     "status": "completed"
    },
    "tags": []
   },
   "outputs": [],
   "source": [
    "dataclass = df[df[\"approach\"] == \"dataclass\"][\"duration (s)\"].values\n",
    "explicitrange = df[df[\"approach\"] == \"explicitrange\"][\"duration (s)\"].values\n",
    "tuplerange = df[df[\"approach\"] == \"tuple\"][\"duration (s)\"].values\n",
    "typeddict = df[df[\"approach\"] == \"typeddict\"][\"duration (s)\"].values"
   ]
  },
  {
   "cell_type": "code",
   "execution_count": 6,
   "id": "daf9aa91",
   "metadata": {
    "execution": {
     "iopub.execute_input": "2025-01-07T22:41:47.779694Z",
     "iopub.status.busy": "2025-01-07T22:41:47.779603Z",
     "iopub.status.idle": "2025-01-07T22:41:47.782099Z",
     "shell.execute_reply": "2025-01-07T22:41:47.781877Z"
    },
    "papermill": {
     "duration": 0.004166,
     "end_time": "2025-01-07T22:41:47.782721",
     "exception": false,
     "start_time": "2025-01-07T22:41:47.778555",
     "status": "completed"
    },
    "tags": []
   },
   "outputs": [
    {
     "data": {
      "text/plain": [
       "F_onewayResult(statistic=np.float64(1.6733648937759862), pvalue=np.float64(0.17217635711360224))"
      ]
     },
     "execution_count": 6,
     "metadata": {},
     "output_type": "execute_result"
    }
   ],
   "source": [
    "f_oneway(dataclass, explicitrange, tuplerange, typeddict)"
   ]
  },
  {
   "cell_type": "code",
   "execution_count": 12,
   "id": "653445cd",
   "metadata": {},
   "outputs": [
    {
     "data": {
      "text/plain": [
       "TtestResult(statistic=np.float64(2.478233229689062), pvalue=np.float64(0.01489539210150319), df=np.int64(99))"
      ]
     },
     "execution_count": 12,
     "metadata": {},
     "output_type": "execute_result"
    }
   ],
   "source": [
    "ttest_rel(dataclass, tuplerange)"
   ]
  },
  {
   "cell_type": "code",
   "execution_count": 13,
   "id": "628ee6a5",
   "metadata": {},
   "outputs": [
    {
     "data": {
      "text/plain": [
       "TtestResult(statistic=np.float64(5.392624239584489), pvalue=np.float64(4.730703802396182e-07), df=np.int64(99))"
      ]
     },
     "execution_count": 13,
     "metadata": {},
     "output_type": "execute_result"
    }
   ],
   "source": [
    "ttest_rel(explicitrange, tuplerange)"
   ]
  },
  {
   "cell_type": "code",
   "execution_count": 14,
   "id": "d21185f1",
   "metadata": {},
   "outputs": [
    {
     "data": {
      "text/plain": [
       "TtestResult(statistic=np.float64(0.0911377598937238), pvalue=np.float64(0.9275672800900243), df=np.int64(99))"
      ]
     },
     "execution_count": 14,
     "metadata": {},
     "output_type": "execute_result"
    }
   ],
   "source": [
    "ttest_rel(typeddict, tuplerange)"
   ]
  },
  {
   "cell_type": "code",
   "execution_count": null,
   "id": "775e4586",
   "metadata": {},
   "outputs": [],
   "source": []
  }
 ],
 "metadata": {
  "kernelspec": {
   "display_name": "analysis",
   "language": "python",
   "name": "python3"
  },
  "language_info": {
   "codemirror_mode": {
    "name": "ipython",
    "version": 3
   },
   "file_extension": ".py",
   "mimetype": "text/x-python",
   "name": "python",
   "nbconvert_exporter": "python",
   "pygments_lexer": "ipython3",
   "version": "3.13.1"
  },
  "papermill": {
   "default_parameters": {},
   "duration": 16.081792,
   "end_time": "2025-01-07T22:41:48.101475",
   "environment_variables": {},
   "exception": null,
   "input_path": "plot-results.ipynb",
   "output_path": "plot-results.ipynb",
   "parameters": {},
   "start_time": "2025-01-07T22:41:32.019683",
   "version": "2.6.0"
  }
 },
 "nbformat": 4,
 "nbformat_minor": 5
}
